{
 "cells": [
  {
   "cell_type": "code",
   "execution_count": 1,
   "id": "130b2eed-d259-48db-81f7-ca8047619694",
   "metadata": {},
   "outputs": [],
   "source": [
    "import pandas as pd"
   ]
  },
  {
   "cell_type": "markdown",
   "id": "c00551d0-3ba3-4f72-9cd5-ed4d7fe8c13b",
   "metadata": {},
   "source": [
    "### csv 파일 데이터프레임 형식으로 불러오기"
   ]
  },
  {
   "cell_type": "code",
   "execution_count": 2,
   "id": "880ce517-7695-422e-8719-0e0c34b6b1b8",
   "metadata": {
    "scrolled": true
   },
   "outputs": [],
   "source": [
    "# 파일 데이터프레임 형식 지정\n",
    "df1 = pd.read_csv('성적을 부탁해 티쳐스.csv')\n",
    "df2 = pd.read_csv('아빠는 꽃중년.csv')\n",
    "df3 = pd.read_csv('오은영의 금쪽 상담소.csv')\n",
    "df4 = pd.read_csv('이제 만나러 갑니다.csv')\n",
    "df5 = pd.read_csv('절친 토크멘터리 4인용 식탁.csv')\n",
    "df6 = pd.read_csv('탐정들의 영업비밀.csv')\n",
    "df7 = pd.read_csv('남의 나라 살아보기 선 넘은 패밀리.csv')\n",
    "df8 = pd.read_csv('요즘 남자 라이프 신랑수업.csv')\n",
    "df9 = pd.read_csv('요즘 육아 금쪽같은 내 새끼.csv')"
   ]
  },
  {
   "cell_type": "markdown",
   "id": "55d5abf4-97ad-44cf-be3c-c68f890ffdbe",
   "metadata": {},
   "source": [
    "### 조회수, 좋아요 숫자형으로 변환"
   ]
  },
  {
   "cell_type": "code",
   "execution_count": 3,
   "id": "8d1d351c-a19e-4d48-8691-dd7f4dba4d02",
   "metadata": {},
   "outputs": [],
   "source": [
    "# 파일 조회수, 좋아요 숫자형으로 변환\n",
    "dfs = [df1,df2,df3,df4,df5,df6,df7,df8,df9]\n",
    "for i in dfs:\n",
    "    columns_to_convert = ['view_count', 'like_count']\n",
    "    i[columns_to_convert] = i[columns_to_convert].apply(pd.to_numeric, errors='coerce')"
   ]
  },
  {
   "cell_type": "markdown",
   "id": "89e60a56-f3c1-4a04-8d45-67a65261ecd4",
   "metadata": {},
   "source": [
    "### 채널 분류하기"
   ]
  },
  {
   "cell_type": "code",
   "execution_count": 4,
   "id": "ff59eca3-1583-4f46-9d87-91e6264691f0",
   "metadata": {
    "scrolled": true
   },
   "outputs": [
    {
     "name": "stdout",
     "output_type": "stream",
     "text": [
      "df1: ['play 채널A' '채널아하: 채널A Health & Asset' '채널에이드: 채널A Drama & Enjoy'\n",
      " '채널A WORLD' '쿠팡플레이 Coupang Play' 'tvN D ENT']\n",
      "df2: ['play 채널A' '채널에이드: 채널A Drama & Enjoy' '빼밀리' '채널A WORLD' 'SBS STORY'\n",
      " '이슈통신' '정석희 테레비평' '채널아하: 채널A Health & Asset' 'SBS Entertainment']\n",
      "df3: ['play 채널A' '엠뚜루마뚜루 : MBC 공식 종합 채널' '채널에이드: 채널A Drama & Enjoy' '잡생각🌟'\n",
      " '채널A WORLD' 'KBS 다큐' '빼밀리' '채널아하: 채널A Health & Asset' '오은영리포트 결혼지옥']\n",
      "df4: ['play 채널A' '채널A WORLD' 'GFRIEND   - Topic' '채널에이드: 채널A Drama & Enjoy']\n",
      "df5: ['play 채널A' '채널아하: 채널A Health & Asset' '채널에이드: 채널A Drama & Enjoy'\n",
      " '채널A WORLD' '빼밀리']\n",
      "df6: ['play 채널A' '채널A WORLD' '채널에이드: 채널A Drama & Enjoy' '빼밀리' '티캐스트 tcast'\n",
      " 'tvN' '실제상황 Real Story' 'JTBC News' '사이다 : 사실은 이렇습니다' '탐정의 영업비밀 대장 이상민탐정'\n",
      " '조은영화' '인생속으로' '맥가이버 탐정TV' 'MBCNEWS' '인탐백 [인물탐구백서]']\n",
      "df7: ['play 채널A' '채널A WORLD' '채널에이드: 채널A Drama & Enjoy' 'JTBC Voyage' '연예가체크'\n",
      " 'KBS Drama' 'KBS 한국방송' 'water토끼' 'SBS 옛날 드라마 - 빽드'\n",
      " '엠뚜루마뚜루 : MBC 공식 종합 채널' '디글 :Diggle' 'tvN D ENT' '신천지예수교증거장막성전' '유준호'\n",
      " 'EBSDocumentary (EBS 다큐)' '고몽' '의학채널 비온뒤' '샾잉 #ing' '루디스튜디오'\n",
      " 'Netflix Korea 넷플릭스 코리아' '디글 클래식 :Diggle Classic' 'JTBC Life' '아빠하고 나하고'\n",
      " '소음예술 notnoisebutart' '풋군' '星辰漫客' 'SBS' '키퍼스처치' 'KBS HUMAN : 뭉클티비'\n",
      " '마가의다락방교회' 'SUNBA선바' '서현 가족이야기' 'DRAMA Voyage' '플라톤아카데미TV' '동심파괴'\n",
      " '서울사이버대학교' '얼굴없는 DJ MoMo - 독백 라디오' '아이돌오타쿠' '일당백 : 일생동안 읽어야 할 백권의 책'\n",
      " '차클 플러스' 'KBS 교양' '책 읽어주는 아내' '무비방' 'Nóc Nhà Review' '케이피아 KPIA : 역사 채널'\n",
      " 'MBCentertainment' 'SBS Catch' '대산문화재단' '국민이주' '손절유영두' '糖宝动画'\n",
      " 'Vloger _ 한국 연예인' '홍하상TV 작가' '蔓蔓动画' '샤론코치TV Sharon CoachTV'\n",
      " '특종세상 - 그때 그 사람' '斗罗短剧' '토마토증권통' '켄PD의 우연한 행복' '网文风向标' '옛드 : MBC 옛날 드라마'\n",
      " 'Full Audiobooks' '뉴스킨 패밀리 그룹 since 2002' '서울경제TV SENvod' '沙雕轻漫'\n",
      " 'Anime Zone' '유학튜브' 'Lani All In One' '더한섬닷컴 HANDSOME' '엘리엇TV'\n",
      " '암웨이 오디오 (Amway Audio)' '푸릉_렘군' '한국증권TV' 'KBS Entertain'\n",
      " '고려대학교 Korea University' 'L2B High-Class TV' '追劇鴨' '정원친구-이오' '영반'\n",
      " '서호수 최강주식' '김효석아카데미' '솔찬패밀리' '디아이프렙 The-I Prep' '클린카즈중고차이민용팀장' '북렌즈_승화하다'\n",
      " '평화의 집짓기 Building a Peace House']\n",
      "df8: ['play 채널A' '연예속보' '채널에이드: 채널A Drama & Enjoy' '빼밀리' '채널A WORLD' '궁희신당'\n",
      " 'NewsInStar' '영탁이장르다' '원원' '내일은뉴스']\n",
      "df9: ['play 채널A' '채널A WORLD' '채널에이드: 채널A Drama & Enjoy' '빼밀리']\n"
     ]
    }
   ],
   "source": [
    "# 채널 분류\n",
    "# unique_values = df1['channel_name'].unique()\n",
    "# unique_values\n",
    "\n",
    "unique_values = []\n",
    "for i, df in enumerate(dfs, start=1):\n",
    "    unique_val = df['channel_name'].unique()\n",
    "    unique_values.append(f'df{i}: {unique_val}')\n",
    "\n",
    "# 결과 출력\n",
    "for unique_val in unique_values:\n",
    "    print(unique_val)"
   ]
  },
  {
   "cell_type": "markdown",
   "id": "95427557-ef64-4c81-8673-4de37042e93f",
   "metadata": {},
   "source": [
    "> 다양한 채널에서 업로드 한 것을 확인\n",
    "> \n",
    "> 영상의 정확도를 올리기 위해 채널 필터링"
   ]
  },
  {
   "cell_type": "markdown",
   "id": "fee082ed-6f26-45dd-8759-d76a1cfef8be",
   "metadata": {},
   "source": [
    "### 채널 적용"
   ]
  },
  {
   "cell_type": "code",
   "execution_count": 5,
   "id": "ce168132-297b-4977-b4f6-1b987806b845",
   "metadata": {},
   "outputs": [
    {
     "data": {
      "text/plain": [
       "title           180\n",
       "view_count      180\n",
       "like_count      180\n",
       "channel_name    180\n",
       "published       180\n",
       "dtype: int64"
      ]
     },
     "execution_count": 5,
     "metadata": {},
     "output_type": "execute_result"
    }
   ],
   "source": [
    "# 성적을 부탁해 티쳐스\n",
    "channels_of_interest = ['play 채널A', '채널아하: 채널A Health & Asset', '채널에이드: 채널A Drama & Enjoy','채널A WORLD']\n",
    "df1_filtered = df1[df1['channel_name'].isin(channels_of_interest)]\n",
    "df1_filtered = df1_filtered.reset_index(drop=True)\n",
    "df1_filtered.count()"
   ]
  },
  {
   "cell_type": "code",
   "execution_count": 6,
   "id": "e8e1f861-4cdb-4c14-a767-01b66b926aac",
   "metadata": {},
   "outputs": [
    {
     "data": {
      "text/plain": [
       "title           188\n",
       "view_count      188\n",
       "like_count      188\n",
       "channel_name    188\n",
       "published       188\n",
       "dtype: int64"
      ]
     },
     "execution_count": 6,
     "metadata": {},
     "output_type": "execute_result"
    }
   ],
   "source": [
    "# 아빠는 꽂중년\n",
    "channels_of_interest = ['play 채널A', '채널에이드: 채널A Drama & Enjoy', '빼밀리', '채널A WORLD','채널아하: 채널A Health & Asset']\n",
    "df2_filtered = df2[df2['channel_name'].isin(channels_of_interest)]\n",
    "df2_filtered = df2_filtered.reset_index(drop=True)\n",
    "df2_filtered.count()"
   ]
  },
  {
   "cell_type": "code",
   "execution_count": 7,
   "id": "341131f4-b2b7-4aeb-be83-34a068a7e8fb",
   "metadata": {},
   "outputs": [
    {
     "data": {
      "text/plain": [
       "title           171\n",
       "view_count      171\n",
       "like_count      171\n",
       "channel_name    171\n",
       "published       171\n",
       "dtype: int64"
      ]
     },
     "execution_count": 7,
     "metadata": {},
     "output_type": "execute_result"
    }
   ],
   "source": [
    "# 오은영의 금쪽 상담소\n",
    "channels_of_interest = ['play 채널A', '채널에이드: 채널A Drama & Enjoy', '채널A WORLD', '빼밀리', '채널아하: 채널A Health & Asset']\n",
    "df3_filtered = df3[df3['channel_name'].isin(channels_of_interest)]\n",
    "df3_filtered = df3_filtered.reset_index(drop=True)\n",
    "df3_filtered.count()"
   ]
  },
  {
   "cell_type": "code",
   "execution_count": 8,
   "id": "583fd724-8998-41ba-97ba-3f0a16339d8d",
   "metadata": {},
   "outputs": [
    {
     "data": {
      "text/plain": [
       "title           187\n",
       "view_count      187\n",
       "like_count      187\n",
       "channel_name    187\n",
       "published       187\n",
       "dtype: int64"
      ]
     },
     "execution_count": 8,
     "metadata": {},
     "output_type": "execute_result"
    }
   ],
   "source": [
    "# 이제 만나러 갑니다\n",
    "channels_of_interest = ['play 채널A', '채널A WORLD', '채널에이드: 채널A Drama & Enjoy']\n",
    "df4_filtered = df4[df4['channel_name'].isin(channels_of_interest)]\n",
    "df4_filtered = df4_filtered.reset_index(drop=True)\n",
    "df4_filtered.count()"
   ]
  },
  {
   "cell_type": "code",
   "execution_count": 9,
   "id": "a2657e56-f6f1-4b77-8aac-d1d4796284b9",
   "metadata": {},
   "outputs": [
    {
     "data": {
      "text/plain": [
       "title           179\n",
       "view_count      179\n",
       "like_count      179\n",
       "channel_name    179\n",
       "published       179\n",
       "dtype: int64"
      ]
     },
     "execution_count": 9,
     "metadata": {},
     "output_type": "execute_result"
    }
   ],
   "source": [
    "# 절친 토크멘터리 4인용 식탁\n",
    "channels_of_interest = ['play 채널A', '채널아하: 채널A Health & Asset', '채널에이드: 채널A Drama & Enjoy', '채널A WORLD', '빼밀리']\n",
    "df5_filtered = df5[df5['channel_name'].isin(channels_of_interest)]\n",
    "df5_filtered = df5_filtered.reset_index(drop=True)\n",
    "df5_filtered.count()"
   ]
  },
  {
   "cell_type": "code",
   "execution_count": 10,
   "id": "8931847a-c39b-4bf3-9622-3b9144592485",
   "metadata": {},
   "outputs": [
    {
     "data": {
      "text/plain": [
       "title           178\n",
       "view_count      178\n",
       "like_count      178\n",
       "channel_name    178\n",
       "published       178\n",
       "dtype: int64"
      ]
     },
     "execution_count": 10,
     "metadata": {},
     "output_type": "execute_result"
    }
   ],
   "source": [
    "# 탐정들의 영업비밀\n",
    "channels_of_interest = ['play 채널A', '채널A WORLD', '채널에이드: 채널A Drama & Enjoy', '빼밀리']\n",
    "df6_filtered = df6[df6['channel_name'].isin(channels_of_interest)]\n",
    "df6_filtered = df6_filtered.reset_index(drop=True)\n",
    "df6_filtered.count()"
   ]
  },
  {
   "cell_type": "code",
   "execution_count": 11,
   "id": "e68ab4bb-a1d4-431b-bae5-1edc4abc9fb5",
   "metadata": {},
   "outputs": [
    {
     "data": {
      "text/plain": [
       "title           82\n",
       "view_count      82\n",
       "like_count      82\n",
       "channel_name    82\n",
       "published       82\n",
       "dtype: int64"
      ]
     },
     "execution_count": 11,
     "metadata": {},
     "output_type": "execute_result"
    }
   ],
   "source": [
    "# 남의 나라 살아보기 선 넘은 패밀리\n",
    "channels_of_interest = ['play 채널A', '채널A WORLD', '채널에이드: 채널A Drama & Enjoy']\n",
    "df7_filtered = df7[df7['channel_name'].isin(channels_of_interest)]\n",
    "df7_filtered = df7_filtered.reset_index(drop=True)\n",
    "df7_filtered.count()"
   ]
  },
  {
   "cell_type": "code",
   "execution_count": 12,
   "id": "2ce37b38-99ea-4db6-a346-69e34a1ea001",
   "metadata": {},
   "outputs": [
    {
     "data": {
      "text/plain": [
       "title           177\n",
       "view_count      177\n",
       "like_count      177\n",
       "channel_name    177\n",
       "published       177\n",
       "dtype: int64"
      ]
     },
     "execution_count": 12,
     "metadata": {},
     "output_type": "execute_result"
    }
   ],
   "source": [
    "# 요즘 남자 라이프 신랑수업\n",
    "channels_of_interest = ['play 채널A', '채널에이드: 채널A Drama & Enjoy', '빼밀리', '채널A WORLD']\n",
    "df8_filtered = df8[df8['channel_name'].isin(channels_of_interest)]\n",
    "df8_filtered = df8_filtered.reset_index(drop=True)\n",
    "df8_filtered.count()"
   ]
  },
  {
   "cell_type": "code",
   "execution_count": 13,
   "id": "2ad07d48-235e-44b0-8253-6648a8669416",
   "metadata": {},
   "outputs": [
    {
     "data": {
      "text/plain": [
       "title           149\n",
       "view_count      149\n",
       "like_count      149\n",
       "channel_name    149\n",
       "published       149\n",
       "dtype: int64"
      ]
     },
     "execution_count": 13,
     "metadata": {},
     "output_type": "execute_result"
    }
   ],
   "source": [
    "# 요즘 육아 금쪽같은 내 새끼\n",
    "channels_of_interest = ['play 채널A', '채널A WORLD', '채널에이드: 채널A Drama & Enjoy', '빼밀리']\n",
    "df9_filtered = df9[df9['channel_name'].isin(channels_of_interest)]\n",
    "df9_filtered = df9_filtered.reset_index(drop=True)\n",
    "df9_filtered.count()"
   ]
  },
  {
   "cell_type": "markdown",
   "id": "87c25315-4e1f-4574-9ecd-961ce01f4006",
   "metadata": {},
   "source": [
    "> df7, df10 이 100개 이하\n",
    "> \n",
    "> df1 성적을 부탁해 티쳐스 181\n",
    "\n",
    "> df2 아빠는 꽃중년 188\n",
    "\n",
    "> df3 오은영의 금쪽 상담소 171\n",
    "\n",
    "> df4 이제 만나러 갑니다 187\n",
    "\n",
    "> df5 절친 토크멘터리 4인용 식탁 179\n",
    "\n",
    "> df6 탐정들의 영업비밀 178\n",
    "\n",
    "> df7 남의 나라 살아보기 선 넘은 패밀리 82\n",
    "\n",
    "> df8 요즘 남자 라이프 신랑수업 177\n",
    "\n",
    "> df9 요즘 육아 금쪽같은 내 새끼 149"
   ]
  },
  {
   "cell_type": "markdown",
   "id": "da33c4f9-c86d-40b2-bf63-7d579e94d8a6",
   "metadata": {},
   "source": [
    "### 영상 필터링"
   ]
  },
  {
   "cell_type": "code",
   "execution_count": 14,
   "id": "a2ee7736-912a-4574-bfa2-b57c658fe2f0",
   "metadata": {},
   "outputs": [
    {
     "data": {
      "text/html": [
       "<div>\n",
       "<style scoped>\n",
       "    .dataframe tbody tr th:only-of-type {\n",
       "        vertical-align: middle;\n",
       "    }\n",
       "\n",
       "    .dataframe tbody tr th {\n",
       "        vertical-align: top;\n",
       "    }\n",
       "\n",
       "    .dataframe thead th {\n",
       "        text-align: right;\n",
       "    }\n",
       "</style>\n",
       "<table border=\"1\" class=\"dataframe\">\n",
       "  <thead>\n",
       "    <tr style=\"text-align: right;\">\n",
       "      <th></th>\n",
       "      <th>title</th>\n",
       "      <th>view_count</th>\n",
       "      <th>like_count</th>\n",
       "      <th>channel_name</th>\n",
       "      <th>published</th>\n",
       "    </tr>\n",
       "  </thead>\n",
       "  <tbody>\n",
       "    <tr>\n",
       "      <th>0</th>\n",
       "      <td>🔴 [#선넘은패밀리] 1회 무료보기🤠 국경의 선을 넘어 해외살이 중인 국제 가족들!...</td>\n",
       "      <td>331191</td>\n",
       "      <td>4391.0</td>\n",
       "      <td>play 채널A</td>\n",
       "      <td>2023-09-22T12:45:10Z</td>\n",
       "    </tr>\n",
       "    <tr>\n",
       "      <th>1</th>\n",
       "      <td>[#선넘은패밀리] 청량 그 자체★ 청정 자연이 만들어낸 장관! 사이판에서 프리다이빙...</td>\n",
       "      <td>2462</td>\n",
       "      <td>23.0</td>\n",
       "      <td>play 채널A</td>\n",
       "      <td>2024-08-30T14:26:01Z</td>\n",
       "    </tr>\n",
       "    <tr>\n",
       "      <th>2</th>\n",
       "      <td>[#선넘은패밀리] 멋스러운 건축 양식과 쭉 펼쳐진 지중해까지★ 남프랑스로 떠난 휴가...</td>\n",
       "      <td>2420</td>\n",
       "      <td>12.0</td>\n",
       "      <td>play 채널A</td>\n",
       "      <td>2024-08-23T14:31:41Z</td>\n",
       "    </tr>\n",
       "    <tr>\n",
       "      <th>3</th>\n",
       "      <td>몇 초만 늦었어도... #선넘은패밀리</td>\n",
       "      <td>4782</td>\n",
       "      <td>20.0</td>\n",
       "      <td>play 채널A</td>\n",
       "      <td>2024-08-30T14:39:25Z</td>\n",
       "    </tr>\n",
       "    <tr>\n",
       "      <th>4</th>\n",
       "      <td>세계인들의 버킷리스트! #선넘은패밀리</td>\n",
       "      <td>1680</td>\n",
       "      <td>49.0</td>\n",
       "      <td>play 채널A</td>\n",
       "      <td>2024-08-09T15:24:08Z</td>\n",
       "    </tr>\n",
       "    <tr>\n",
       "      <th>...</th>\n",
       "      <td>...</td>\n",
       "      <td>...</td>\n",
       "      <td>...</td>\n",
       "      <td>...</td>\n",
       "      <td>...</td>\n",
       "    </tr>\n",
       "    <tr>\n",
       "      <th>74</th>\n",
       "      <td>세계 1위 호텔?! 이탈리아 핫 플 탐방기★ | 선 넘은 패밀리 17 회</td>\n",
       "      <td>2413</td>\n",
       "      <td>11.0</td>\n",
       "      <td>play 채널A</td>\n",
       "      <td>2024-01-20T13:36:01Z</td>\n",
       "    </tr>\n",
       "    <tr>\n",
       "      <th>75</th>\n",
       "      <td>차원이 다른 스케일♨ 이게 찐 야생이다, 남아공 사파리 투어♥ | 선 넘은 패밀리 ...</td>\n",
       "      <td>689</td>\n",
       "      <td>4.0</td>\n",
       "      <td>play 채널A</td>\n",
       "      <td>2024-01-13T12:43:22Z</td>\n",
       "    </tr>\n",
       "    <tr>\n",
       "      <th>76</th>\n",
       "      <td>사우나에서 하는 정상 회담(?) 북유럽 최고 인기 코스 | 선 넘은 패밀리 17 회</td>\n",
       "      <td>886</td>\n",
       "      <td>3.0</td>\n",
       "      <td>play 채널A</td>\n",
       "      <td>2024-01-20T13:30:32Z</td>\n",
       "    </tr>\n",
       "    <tr>\n",
       "      <th>77</th>\n",
       "      <td>[#밥친구] 임영웅 찐 팬 남편 등장?! 오스티리아 한복판에서 외친 임영웅 헌정 공...</td>\n",
       "      <td>23485</td>\n",
       "      <td>1055.0</td>\n",
       "      <td>채널A WORLD</td>\n",
       "      <td>2024-03-29T13:00:51Z</td>\n",
       "    </tr>\n",
       "    <tr>\n",
       "      <th>78</th>\n",
       "      <td>끝나지 않는 번지점프(?) 역으로 올라가야 끝나는 남아공 번지점프의 위엄 | 선 넘...</td>\n",
       "      <td>1985</td>\n",
       "      <td>11.0</td>\n",
       "      <td>play 채널A</td>\n",
       "      <td>2024-02-17T13:22:24Z</td>\n",
       "    </tr>\n",
       "  </tbody>\n",
       "</table>\n",
       "<p>79 rows × 5 columns</p>\n",
       "</div>"
      ],
      "text/plain": [
       "                                                title  view_count  like_count  \\\n",
       "0   🔴 [#선넘은패밀리] 1회 무료보기🤠 국경의 선을 넘어 해외살이 중인 국제 가족들!...      331191      4391.0   \n",
       "1   [#선넘은패밀리] 청량 그 자체★ 청정 자연이 만들어낸 장관! 사이판에서 프리다이빙...        2462        23.0   \n",
       "2   [#선넘은패밀리] 멋스러운 건축 양식과 쭉 펼쳐진 지중해까지★ 남프랑스로 떠난 휴가...        2420        12.0   \n",
       "3                                몇 초만 늦었어도... #선넘은패밀리        4782        20.0   \n",
       "4                                세계인들의 버킷리스트! #선넘은패밀리        1680        49.0   \n",
       "..                                                ...         ...         ...   \n",
       "74           세계 1위 호텔?! 이탈리아 핫 플 탐방기★ | 선 넘은 패밀리 17 회        2413        11.0   \n",
       "75  차원이 다른 스케일♨ 이게 찐 야생이다, 남아공 사파리 투어♥ | 선 넘은 패밀리 ...         689         4.0   \n",
       "76     사우나에서 하는 정상 회담(?) 북유럽 최고 인기 코스 | 선 넘은 패밀리 17 회         886         3.0   \n",
       "77  [#밥친구] 임영웅 찐 팬 남편 등장?! 오스티리아 한복판에서 외친 임영웅 헌정 공...       23485      1055.0   \n",
       "78  끝나지 않는 번지점프(?) 역으로 올라가야 끝나는 남아공 번지점프의 위엄 | 선 넘...        1985        11.0   \n",
       "\n",
       "   channel_name             published  \n",
       "0      play 채널A  2023-09-22T12:45:10Z  \n",
       "1      play 채널A  2024-08-30T14:26:01Z  \n",
       "2      play 채널A  2024-08-23T14:31:41Z  \n",
       "3      play 채널A  2024-08-30T14:39:25Z  \n",
       "4      play 채널A  2024-08-09T15:24:08Z  \n",
       "..          ...                   ...  \n",
       "74     play 채널A  2024-01-20T13:36:01Z  \n",
       "75     play 채널A  2024-01-13T12:43:22Z  \n",
       "76     play 채널A  2024-01-20T13:30:32Z  \n",
       "77    채널A WORLD  2024-03-29T13:00:51Z  \n",
       "78     play 채널A  2024-02-17T13:22:24Z  \n",
       "\n",
       "[79 rows x 5 columns]"
      ]
     },
     "execution_count": 14,
     "metadata": {},
     "output_type": "execute_result"
    }
   ],
   "source": [
    "df7_filtered = df7_filtered.drop([79,80,81])\n",
    "df7_filtered"
   ]
  },
  {
   "cell_type": "markdown",
   "id": "785fd94f-32a2-4cf0-a819-acbf732bbef5",
   "metadata": {},
   "source": [
    "### 프로그램별 최소, 최대, 평균 조회수"
   ]
  },
  {
   "cell_type": "code",
   "execution_count": 15,
   "id": "4eab1623-fbb0-438c-ab49-64e1ca88ee84",
   "metadata": {},
   "outputs": [],
   "source": [
    "# 채널 필터링된 변수 사용\n",
    "dfs_filtered = [df1_filtered,df2_filtered,df3_filtered,df4_filtered,df5_filtered,df6_filtered,df7_filtered,df8_filtered,df9_filtered]"
   ]
  },
  {
   "cell_type": "code",
   "execution_count": 16,
   "id": "4c5d9cd2-4715-4fc2-9e38-2272161a0878",
   "metadata": {},
   "outputs": [
    {
     "name": "stdout",
     "output_type": "stream",
     "text": [
      "df5: 344\n",
      "df7: 397\n",
      "df6: 744\n",
      "df8: 1798\n",
      "df3: 2237\n",
      "df9: 2249\n",
      "df2: 2293\n",
      "df4: 4013\n",
      "df1: 12803\n"
     ]
    }
   ],
   "source": [
    "# min\n",
    "min_values = []\n",
    "\n",
    "# 각 데이터프레임에서 view_count 열의 min 값 계산\n",
    "for i, df in enumerate(dfs_filtered, start=1):\n",
    "    min_val = df['view_count'].min()\n",
    "    min_values.append(f'df{i}: {min_val}')\n",
    "\n",
    "def extract_number(s):\n",
    "    return int(s.split(': ')[1])\n",
    "\n",
    "# min_values를 숫자 기준으로 정렬\n",
    "min_values_sorted = sorted(min_values, key=extract_number)\n",
    "\n",
    "# 결과 출력\n",
    "for min_val in min_values_sorted:\n",
    "    print(min_val)"
   ]
  },
  {
   "cell_type": "code",
   "execution_count": 17,
   "id": "1fed1772-c731-48de-a343-8b6f1e722db3",
   "metadata": {},
   "outputs": [],
   "source": [
    "min_view_count1 = df1_filtered['view_count'].min()\n",
    "min_rows1 = df1_filtered[df1_filtered['view_count'] == min_view_count1]"
   ]
  },
  {
   "cell_type": "code",
   "execution_count": 18,
   "id": "b2b512e4-5212-452e-8934-b255c72535a2",
   "metadata": {},
   "outputs": [
    {
     "name": "stdout",
     "output_type": "stream",
     "text": [
      "title            \"그럼 안 되지...\" #4인용식탁\n",
      "view_count                       344\n",
      "like_count                         3\n",
      "channel_name                play 채널A\n",
      "published       2023-09-12T11:38:55Z\n",
      "dtype: object\n",
      "title           (ㄷㄷ;;) 사자가 물 수도 있다!? 위험천만 남아공 사파리 | 선 넘은 패밀리 16 회\n",
      "view_count                                                    397\n",
      "like_count                                                    3.0\n",
      "channel_name                                             play 채널A\n",
      "published                                    2023-09-22T12:45:10Z\n",
      "dtype: object\n",
      "title           (40분) 2400만원 떼먹고 잠적한 대표를 잡았더니 한다는 말?!ㅣ탐정들의 영업비밀\n",
      "view_count                                                  744\n",
      "like_count                                                  4.0\n",
      "channel_name                                           play 채널A\n",
      "published                                  2024-01-29T12:45:10Z\n",
      "dtype: object\n",
      "title           \"결혼 계획은 어떻게 돼!\" 반쯤 포기한(?) 아빠의 심정에 맞서는 준수의 야심찬 ...\n",
      "view_count                                                   1798\n",
      "like_count                                                   31.0\n",
      "channel_name                                             play 채널A\n",
      "published                                    2022-01-11T01:21:05Z\n",
      "dtype: object\n",
      "title           \"아무것도 즐겁지 않아요\" 화려한 성공 뒤에 숨겨진 위너 송민호의 불행과 아픔 [오...\n",
      "view_count                                                   2237\n",
      "like_count                                                     10\n",
      "channel_name                                             play 채널A\n",
      "published                                    2021-10-14T13:00:07Z\n",
      "dtype: object\n",
      "title           !돌발 상황! 녹화 후 오박사를 찾아온 부부!? 엄마가 변화를 두려워하는 이유 | ...\n",
      "view_count                                                   2249\n",
      "like_count                                                      5\n",
      "channel_name                                             play 채널A\n",
      "published                                    2020-05-29T11:45:12Z\n",
      "dtype: object\n",
      "title           \"이혼한 아내에게 사과의 기회를 얻고 싶어요..\" DJ DOC 정재용이 이혼 후 2...\n",
      "view_count                                                   2293\n",
      "like_count                                                      7\n",
      "channel_name                                             play 채널A\n",
      "published                                    2024-04-11T12:57:18Z\n",
      "dtype: object\n",
      "title           \"살아서 나온 사람이 없다\"ㄷㄷ 지옥과 같았던 北 비밀 감옥의 실상! | 이제 만나...\n",
      "view_count                                                   4013\n",
      "like_count                                                     28\n",
      "channel_name                                             play 채널A\n",
      "published                                    2012-05-30T04:37:32Z\n",
      "dtype: object\n",
      "title           #티처스 #조정식 l 240630 대면팬싸 l 6모 영어 망했어도 조정식 탈덕이란 없다\n",
      "view_count                                                 12803\n",
      "like_count                                                    48\n",
      "channel_name                                            play 채널A\n",
      "published                                   2023-07-27T11:03:52Z\n",
      "dtype: object\n"
     ]
    }
   ],
   "source": [
    "min_info = [df5_filtered.min(), df7_filtered.min(), df6_filtered.min(), df8_filtered.min(), df3_filtered.min(), df9_filtered.min(), df2_filtered.min(), df4_filtered.min(), df1_filtered.min()]\n",
    "for a in min_info:\n",
    "    print(a)"
   ]
  },
  {
   "cell_type": "code",
   "execution_count": 19,
   "id": "5920c38d-15d7-48bc-8772-8a406d7ef456",
   "metadata": {},
   "outputs": [
    {
     "name": "stdout",
     "output_type": "stream",
     "text": [
      "df7: 527559\n",
      "df2: 849242\n",
      "df5: 1624406\n",
      "df8: 1847505\n",
      "df6: 2089852\n",
      "df4: 5217857\n",
      "df3: 5640876\n",
      "df1: 6145229\n",
      "df9: 8445752\n"
     ]
    }
   ],
   "source": [
    "# max\n",
    "max_values = []\n",
    "\n",
    "# 각 데이터프레임에서 view_count 열의 min 값 계산\n",
    "for i, df in enumerate(dfs_filtered, start=1):\n",
    "    max_val = df['view_count'].max()\n",
    "    max_values.append(f'df{i}: {max_val}')\n",
    "\n",
    "def extract_number(s):\n",
    "    return int(s.split(': ')[1])\n",
    "\n",
    "max_values_sorted = sorted(max_values, key=extract_number)\n",
    "\n",
    "# 결과 출력\n",
    "for max_val in max_values_sorted:\n",
    "    print(max_val)"
   ]
  },
  {
   "cell_type": "code",
   "execution_count": 20,
   "id": "5daf7752-3453-4e7f-ae55-800846de3f31",
   "metadata": {},
   "outputs": [
    {
     "name": "stdout",
     "output_type": "stream",
     "text": [
      "527559\n",
      "849242\n",
      "1624406\n",
      "1847505\n",
      "2089852\n",
      "5217857\n",
      "5640876\n",
      "6145229\n",
      "8445752\n"
     ]
    }
   ],
   "source": [
    "max_info = [df7_filtered['view_count'].max(), df2_filtered['view_count'].max(), df5_filtered['view_count'].max(), df8_filtered['view_count'].max(), df6_filtered['view_count'].max(), df4_filtered['view_count'].max(), df3_filtered['view_count'].max(), df1_filtered['view_count'].max(), df9_filtered['view_count'].max()]\n",
    "for a in max_info:\n",
    "    print(a)"
   ]
  },
  {
   "cell_type": "code",
   "execution_count": 21,
   "id": "1e95bdb5-ead5-4cb1-86df-972925e4c5b1",
   "metadata": {},
   "outputs": [
    {
     "name": "stdout",
     "output_type": "stream",
     "text": [
      "        title  view_count  like_count channel_name             published\n",
      "161  칭찬이 필요해👀     6145229       90170     play 채널A  2023-11-12T14:27:59Z\n"
     ]
    }
   ],
   "source": [
    "max_view_count = df1_filtered['view_count'].max()\n",
    "max_rows = df1_filtered[df1_filtered['view_count'] == max_view_count]\n",
    "print(max_rows)"
   ]
  },
  {
   "cell_type": "code",
   "execution_count": 22,
   "id": "e3a7a56a-8fa1-4714-8f6f-f6171ff69325",
   "metadata": {},
   "outputs": [
    {
     "name": "stdout",
     "output_type": "stream",
     "text": [
      "df7: 44135.51898734177\n",
      "df2: 96702.43085106384\n",
      "df6: 148180.73595505618\n",
      "df5: 156679.35754189943\n",
      "df8: 214121.57627118644\n",
      "df4: 356921.27807486634\n",
      "df1: 521194.6111111111\n",
      "df3: 628458.5029239766\n",
      "df9: 791441.9798657718\n"
     ]
    }
   ],
   "source": [
    "# mean\n",
    "mean_values = []\n",
    "\n",
    "# 각 데이터프레임에서 view_count 열의 min 값 계산\n",
    "for i, df in enumerate(dfs_filtered, start=1):\n",
    "    mean_val = df['view_count'].mean()\n",
    "    mean_values.append(f'df{i}: {mean_val}')\n",
    "\n",
    "def extract_float(s):\n",
    "    return float(s.split(': ')[1])\n",
    "\n",
    "mean_values_sorted = sorted(mean_values, key=extract_float)\n",
    "\n",
    "# 결과 출력\n",
    "for mean_val in mean_values_sorted:\n",
    "    print(mean_val)"
   ]
  },
  {
   "cell_type": "markdown",
   "id": "4d6a2c11-0826-4530-bfdd-133a65cce1f6",
   "metadata": {},
   "source": [
    "> df7(선 넘은 패밀리)\n",
    "\n",
    "> df2(아빠는 꽃중년)\n",
    "\n",
    "> df6(탐정들의 영업비밀)\n",
    ">\n",
    "> df10은 총 영상과 업로드일을 고려해야함\n",
    ">\n",
    "> 영상의 수, 업로드일을 고려하면 평균 df7이 가장 적다고 볼 수 있음"
   ]
  },
  {
   "cell_type": "markdown",
   "id": "319d70a4-abc2-4849-ac8c-d17aa89dcc50",
   "metadata": {},
   "source": [
    "### 조회수 범위 확인"
   ]
  },
  {
   "cell_type": "code",
   "execution_count": 23,
   "id": "bf49f401-bef1-4f23-81c8-0661e3f8c219",
   "metadata": {},
   "outputs": [
    {
     "data": {
      "text/plain": [
       "view_count_bin\n",
       "(12802.999, 66252.0]     36\n",
       "(66252.0, 133598.2]      36\n",
       "(133598.2, 320917.0]     36\n",
       "(320917.0, 765790.0]     36\n",
       "(765790.0, 6145229.0]    36\n",
       "Name: count, dtype: int64"
      ]
     },
     "execution_count": 23,
     "metadata": {},
     "output_type": "execute_result"
    }
   ],
   "source": [
    "# df1 성적을 부탁해 티쳐스\n",
    "df1_filtered['view_count_bin'] = pd.qcut(df1_filtered['view_count'], q = 5)\n",
    "df1_filtered['view_count_bin'].value_counts()"
   ]
  },
  {
   "cell_type": "code",
   "execution_count": 24,
   "id": "2223b697-b05d-4301-abc1-f6f3a71ba2ed",
   "metadata": {},
   "outputs": [
    {
     "data": {
      "text/plain": [
       "view_count_bin\n",
       "(2292.999, 15357.6]     38\n",
       "(27509.6, 53620.0]      38\n",
       "(140512.4, 849242.0]    38\n",
       "(15357.6, 27509.6]      37\n",
       "(53620.0, 140512.4]     37\n",
       "Name: count, dtype: int64"
      ]
     },
     "execution_count": 24,
     "metadata": {},
     "output_type": "execute_result"
    }
   ],
   "source": [
    "# df2 아빠는 꽃중년\n",
    "df2_filtered['view_count_bin'] = pd.qcut(df2_filtered['view_count'], q = 5)\n",
    "df2_filtered['view_count_bin'].value_counts()"
   ]
  },
  {
   "cell_type": "code",
   "execution_count": 25,
   "id": "9c4a1232-9835-4d36-bb53-88d692e4ce96",
   "metadata": {},
   "outputs": [
    {
     "data": {
      "text/plain": [
       "view_count_bin\n",
       "(2236.999, 61893.0]      35\n",
       "(61893.0, 148692.0]      34\n",
       "(148692.0, 451104.0]     34\n",
       "(451104.0, 966651.0]     34\n",
       "(966651.0, 5640876.0]    34\n",
       "Name: count, dtype: int64"
      ]
     },
     "execution_count": 25,
     "metadata": {},
     "output_type": "execute_result"
    }
   ],
   "source": [
    "# df3 오은영의 금쪽 상담소\n",
    "df3_filtered['view_count_bin'] = pd.qcut(df3_filtered['view_count'], q = 5)\n",
    "df3_filtered['view_count_bin'].value_counts()"
   ]
  },
  {
   "cell_type": "code",
   "execution_count": 26,
   "id": "d5479e1b-b055-4012-85e4-40ec899f500a",
   "metadata": {},
   "outputs": [
    {
     "data": {
      "text/plain": [
       "view_count_bin\n",
       "(4012.999, 22814.0]      38\n",
       "(559351.2, 5217857.0]    38\n",
       "(22814.0, 62740.4]       37\n",
       "(62740.4, 197573.2]      37\n",
       "(197573.2, 559351.2]     37\n",
       "Name: count, dtype: int64"
      ]
     },
     "execution_count": 26,
     "metadata": {},
     "output_type": "execute_result"
    }
   ],
   "source": [
    "# df4 이제 만나러 갑니다\n",
    "df4_filtered['view_count_bin'] = pd.qcut(df4_filtered['view_count'], q = 5)\n",
    "df4_filtered['view_count_bin'].value_counts()"
   ]
  },
  {
   "cell_type": "code",
   "execution_count": 27,
   "id": "4253dc70-677d-4c7a-ad1f-3d724f4af21a",
   "metadata": {},
   "outputs": [
    {
     "data": {
      "text/plain": [
       "view_count_bin\n",
       "(343.999, 10794.6]       36\n",
       "(10794.6, 29928.2]       36\n",
       "(66002.4, 196390.0]      36\n",
       "(196390.0, 1624406.0]    36\n",
       "(29928.2, 66002.4]       35\n",
       "Name: count, dtype: int64"
      ]
     },
     "execution_count": 27,
     "metadata": {},
     "output_type": "execute_result"
    }
   ],
   "source": [
    "# df5 절친 토크멘터리 4인용 식탁\n",
    "df5_filtered['view_count_bin'] = pd.qcut(df5_filtered['view_count'], q = 5)\n",
    "df5_filtered['view_count_bin'].value_counts()"
   ]
  },
  {
   "cell_type": "code",
   "execution_count": 28,
   "id": "df059c7c-9fcf-4065-8a1d-3703e424913a",
   "metadata": {},
   "outputs": [
    {
     "data": {
      "text/plain": [
       "view_count_bin\n",
       "(743.999, 5043.4]        36\n",
       "(20486.4, 75365.0]       36\n",
       "(242177.0, 2089852.0]    36\n",
       "(5043.4, 20486.4]        35\n",
       "(75365.0, 242177.0]      35\n",
       "Name: count, dtype: int64"
      ]
     },
     "execution_count": 28,
     "metadata": {},
     "output_type": "execute_result"
    }
   ],
   "source": [
    "# df6 탐정들의 영업비밀\n",
    "df6_filtered['view_count_bin'] = pd.qcut(df6_filtered['view_count'], q = 5)\n",
    "df6_filtered['view_count_bin'].value_counts()"
   ]
  },
  {
   "cell_type": "code",
   "execution_count": 29,
   "id": "8e27cda3-25d9-4202-b0d0-126257aaa512",
   "metadata": {},
   "outputs": [
    {
     "data": {
      "text/plain": [
       "view_count_bin\n",
       "(396.999, 1555.2]      16\n",
       "(1555.2, 2764.8]       16\n",
       "(7375.4, 23906.2]      16\n",
       "(23906.2, 527559.0]    16\n",
       "(2764.8, 7375.4]       15\n",
       "Name: count, dtype: int64"
      ]
     },
     "execution_count": 29,
     "metadata": {},
     "output_type": "execute_result"
    }
   ],
   "source": [
    "# df7 남의 나라 살아보기 선 넘은 패밀리\n",
    "df7_filtered['view_count_bin'] = pd.qcut(df7_filtered['view_count'], q = 5)\n",
    "df7_filtered['view_count_bin'].value_counts()"
   ]
  },
  {
   "cell_type": "code",
   "execution_count": 30,
   "id": "4f1a4516-45e4-4480-bbbd-91764d06eb6f",
   "metadata": {},
   "outputs": [
    {
     "data": {
      "text/plain": [
       "view_count_bin\n",
       "(1797.999, 54246.2]      36\n",
       "(278835.4, 1847505.0]    36\n",
       "(54246.2, 111324.0]      35\n",
       "(111324.0, 160309.2]     35\n",
       "(160309.2, 278835.4]     35\n",
       "Name: count, dtype: int64"
      ]
     },
     "execution_count": 30,
     "metadata": {},
     "output_type": "execute_result"
    }
   ],
   "source": [
    "# df8 요즘 남자 라이프 신랑수업\n",
    "df8_filtered['view_count_bin'] = pd.qcut(df8_filtered['view_count'], q = 5)\n",
    "df8_filtered['view_count_bin'].value_counts()"
   ]
  },
  {
   "cell_type": "code",
   "execution_count": 31,
   "id": "7e714689-72d8-42ed-93d0-1f2abb012c3d",
   "metadata": {},
   "outputs": [
    {
     "data": {
      "text/plain": [
       "view_count_bin\n",
       "(2248.999, 51523.8]       30\n",
       "(51523.8, 202995.8]       30\n",
       "(418609.2, 1223481.0]     30\n",
       "(1223481.0, 8445752.0]    30\n",
       "(202995.8, 418609.2]      29\n",
       "Name: count, dtype: int64"
      ]
     },
     "execution_count": 31,
     "metadata": {},
     "output_type": "execute_result"
    }
   ],
   "source": [
    "# df9 요즘 육아 금쪽같은 내 새끼\n",
    "df9_filtered['view_count_bin'] = pd.qcut(df9_filtered['view_count'], q = 5)\n",
    "df9_filtered['view_count_bin'].value_counts()"
   ]
  },
  {
   "cell_type": "markdown",
   "id": "1fbf7d0e-2a7e-45d3-8565-fa3bfba670d6",
   "metadata": {},
   "source": [
    "> 전부 균일하게 분포해있음"
   ]
  },
  {
   "cell_type": "code",
   "execution_count": 36,
   "id": "e419eab3-d879-4090-8c6d-4e972eb272cf",
   "metadata": {},
   "outputs": [
    {
     "data": {
      "image/png": "[encoded data removed]",
      "text/plain": [
       "<Figure size 1400x800 with 1 Axes>"
      ]
     },
     "metadata": {},
     "output_type": "display_data"
    }
   ],
   "source": [
    "import pandas as pd\n",
    "import matplotlib.pyplot as plt\n",
    "\n",
    "# 예제 데이터프레임 생성 (실제 데이터프레임으로 교체해야 합니다.)\n",
    "# 여기에 데이터프레임을 생성하거나 읽어오는 코드가 필요합니다.\n",
    "\n",
    "# 데이터프레임 리스트\n",
    "dfs_filtered = [df1_filtered, df2_filtered, df3_filtered, df4_filtered, df5_filtered,\n",
    "                df6_filtered, df7_filtered, df8_filtered, df9_filtered]\n",
    "\n",
    "# 최소값을 가지는 행을 저장할 리스트\n",
    "min_values = []\n",
    "labels = [f'df{i}' for i in range(1, 11)]\n",
    "\n",
    "# 각 데이터프레임에서 최소값을 추출\n",
    "for df in dfs_filtered:\n",
    "    min_view_count = df['view_count'].min()  # 최소값 찾기\n",
    "    min_values.append(min_view_count)  # 최소값을 리스트에 추가\n",
    "\n",
    "# 최소값을 오름차순으로 정렬\n",
    "sorted_indices = sorted(range(len(min_values)), key=lambda i: min_values[i])\n",
    "sorted_min_values = [min_values[i] for i in sorted_indices]\n",
    "sorted_labels = [labels[i] for i in sorted_indices]\n",
    "\n",
    "# 시각화\n",
    "fig, ax = plt.subplots(figsize=(14, 8))\n",
    "\n",
    "bars = ax.bar(sorted_labels, sorted_min_values, color='green')\n",
    "\n",
    "# 레이블 및 제목 설정\n",
    "ax.set_xlabel('DataFrame')\n",
    "ax.set_ylabel('Minimum view_count')\n",
    "ax.set_title('Minimum view_count for each DataFrame (Sorted)')\n",
    "\n",
    "# 값 레이블 추가\n",
    "for bar in bars:\n",
    "    yval = bar.get_height()\n",
    "    ax.text(bar.get_x() + bar.get_width()/2, yval, round(yval, 2), va='bottom')  # va: vertical alignment\n",
    "\n",
    "plt.xticks(rotation=45)\n",
    "plt.tight_layout()\n",
    "# plt.savefig('최소값_정렬된_시각화.png')\n",
    "plt.show()"
   ]
  },
  {
   "cell_type": "code",
   "execution_count": 38,
   "id": "1795a0d8-2fdb-4926-9a0d-4dd42ed2065c",
   "metadata": {},
   "outputs": [
    {
     "data": {
      "image/png": "[encoded data removed]",
      "text/plain": [
       "<Figure size 1400x800 with 1 Axes>"
      ]
     },
     "metadata": {},
     "output_type": "display_data"
    }
   ],
   "source": [
    "import pandas as pd\n",
    "import matplotlib.pyplot as plt\n",
    "\n",
    "# 예제 데이터프레임 생성 (실제 데이터프레임으로 교체해야 합니다.)\n",
    "# 여기에 데이터프레임을 생성하거나 읽어오는 코드가 필요합니다.\n",
    "\n",
    "# 데이터프레임 리스트\n",
    "dfs_filtered = [df1_filtered, df2_filtered, df3_filtered, df4_filtered, df5_filtered,\n",
    "                df6_filtered, df7_filtered, df8_filtered, df9_filtered]\n",
    "\n",
    "# 최대값을 가지는 행을 저장할 리스트\n",
    "max_values = []\n",
    "labels = [f'df{i}' for i in range(1, 11)]\n",
    "\n",
    "# 각 데이터프레임에서 최대값을 추출\n",
    "for df in dfs_filtered:\n",
    "    max_view_count = df['view_count'].max()  # 최대값 찾기\n",
    "    max_values.append(max_view_count)  # 최대값을 리스트에 추가\n",
    "\n",
    "# 최대값을 오름차순으로 정렬\n",
    "sorted_indices = sorted(range(len(max_values)), key=lambda i: max_values[i])\n",
    "sorted_max_values = [max_values[i] for i in sorted_indices]\n",
    "sorted_labels = [labels[i] for i in sorted_indices]\n",
    "\n",
    "# 시각화\n",
    "fig, ax = plt.subplots(figsize=(14, 8))\n",
    "\n",
    "bars = ax.bar(sorted_labels, sorted_max_values, color='blue')\n",
    "\n",
    "# 레이블 및 제목 설정\n",
    "ax.set_xlabel('DataFrame')\n",
    "ax.set_ylabel('Maximum view_count')\n",
    "ax.set_title('Maximum view_count for each DataFrame (Sorted)')\n",
    "\n",
    "# 값 레이블 추가\n",
    "for bar in bars:\n",
    "    yval = bar.get_height()\n",
    "    ax.text(bar.get_x() + bar.get_width()/2, yval, round(yval, 2), va='bottom')  # va: vertical alignment\n",
    "\n",
    "plt.xticks(rotation=45)\n",
    "plt.tight_layout()\n",
    "# plt.savefig('최대값_정렬된_시각화.png')\n",
    "plt.show()\n"
   ]
  },
  {
   "cell_type": "code",
   "execution_count": 40,
   "id": "09d0563d-3a2f-44da-823a-401b49ad12a7",
   "metadata": {},
   "outputs": [
    {
     "data": {
      "image/png": "[encoded data removed]",
      "text/plain": [
       "<Figure size 1400x800 with 1 Axes>"
      ]
     },
     "metadata": {},
     "output_type": "display_data"
    }
   ],
   "source": [
    "import pandas as pd\n",
    "import matplotlib.pyplot as plt\n",
    "\n",
    "# 예제 데이터프레임 생성 (실제 데이터프레임으로 교체해야 합니다.)\n",
    "# 여기에 데이터프레임을 생성하거나 읽어오는 코드가 필요합니다.\n",
    "\n",
    "# 데이터프레임 리스트\n",
    "dfs_filtered = [df1_filtered, df2_filtered, df3_filtered, df4_filtered, df5_filtered,\n",
    "                df6_filtered, df7_filtered, df8_filtered, df9_filtered]\n",
    "\n",
    "# 평균값을 저장할 리스트\n",
    "mean_values = []\n",
    "labels = [f'df{i}' for i in range(1, 11)]\n",
    "\n",
    "# 각 데이터프레임에서 평균값을 추출\n",
    "for df in dfs_filtered:\n",
    "    mean_view_count = df['view_count'].mean()  # 평균값 찾기\n",
    "    mean_values.append(mean_view_count)  # 평균값을 리스트에 추가\n",
    "\n",
    "# 평균값을 오름차순으로 정렬\n",
    "sorted_indices = sorted(range(len(mean_values)), key=lambda i: mean_values[i])\n",
    "sorted_mean_values = [mean_values[i] for i in sorted_indices]\n",
    "sorted_labels = [labels[i] for i in sorted_indices]\n",
    "\n",
    "# 시각화\n",
    "fig, ax = plt.subplots(figsize=(14, 8))\n",
    "\n",
    "bars = ax.bar(sorted_labels, sorted_mean_values, color='red')\n",
    "\n",
    "# 레이블 및 제목 설정\n",
    "ax.set_xlabel('DataFrame')\n",
    "ax.set_ylabel('Average view_count')\n",
    "ax.set_title('Average view_count for each DataFrame (Sorted)')\n",
    "\n",
    "# 값 레이블 추가\n",
    "for bar in bars:\n",
    "    yval = bar.get_height()\n",
    "    ax.text(bar.get_x() + bar.get_width()/2, yval, round(yval, 2), va='bottom')  # va: vertical alignment\n",
    "\n",
    "plt.xticks(rotation=45)\n",
    "plt.tight_layout()\n",
    "# plt.savefig('평균값_정렬된_시각화.png')\n",
    "plt.show()\n"
   ]
  },
  {
   "cell_type": "markdown",
   "id": "58ebdc6a-070c-4ffc-beb6-ca8ffdf6065f",
   "metadata": {},
   "source": [
    "## 결론"
   ]
  },
  {
   "cell_type": "markdown",
   "id": "55412c30-89b7-447e-8769-0b59af27a9c2",
   "metadata": {},
   "source": [
    "- 영상 수, 업로드일, 최소 조회수, 최고 조회수, 조회수 평균, 조회수 구간 분포를 확인해본 결과\n",
    "- df7: [남의 나라 살아보기 선 넘은 패밀리] 가 가장 조회율이 낮다고 판단.\n",
    "\n",
    "> df7은 업로드 영상 82개로 낮은 조회수 397, 높은 조회수 527559, 평균 조회수 44135.518로 9개의 프로그램 중 낮은 조회수를 기록"
   ]
  }
 ],
 "metadata": {
  "kernelspec": {
   "display_name": "Python 3 (ipykernel)",
   "language": "python",
   "name": "python3"
  },
  "language_info": {
   "codemirror_mode": {
    "name": "ipython",
    "version": 3
   },
   "file_extension": ".py",
   "mimetype": "text/x-python",
   "name": "python",
   "nbconvert_exporter": "python",
   "pygments_lexer": "ipython3",
   "version": "3.12.6"
  }
 },
 "nbformat": 4,
 "nbformat_minor": 5
}
